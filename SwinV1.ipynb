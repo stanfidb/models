{
  "nbformat": 4,
  "nbformat_minor": 0,
  "metadata": {
    "colab": {
      "name": "SwinV1",
      "provenance": [],
      "collapsed_sections": [],
      "authorship_tag": "ABX9TyNGTGNtoaLPEusrxB+V/nm2"
    },
    "kernelspec": {
      "name": "python3",
      "display_name": "Python 3"
    },
    "language_info": {
      "name": "python"
    }
  },
  "cells": [
    {
      "cell_type": "code",
      "execution_count": null,
      "metadata": {
        "id": "zdh0JNglj05j"
      },
      "outputs": [],
      "source": [
        ""
      ]
    }
  ]
}